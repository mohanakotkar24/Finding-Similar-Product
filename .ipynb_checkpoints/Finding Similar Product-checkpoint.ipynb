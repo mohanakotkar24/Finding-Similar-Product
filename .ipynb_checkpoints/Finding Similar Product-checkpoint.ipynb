{
 "cells": [
  {
   "cell_type": "code",
   "execution_count": 11,
   "metadata": {
    "collapsed": true
   },
   "outputs": [],
   "source": [
    "import pandas as pd\n",
    "import numpy as np\n",
    "import os\n",
    "import matplotlib.pyplot as plt\n",
    "%matplotlib inline"
   ]
  },
  {
   "cell_type": "code",
   "execution_count": 2,
   "metadata": {
    "collapsed": true
   },
   "outputs": [],
   "source": [
    "#Reading the product file\n",
    "dataset = pd.read_csv('prods.csv')"
   ]
  },
  {
   "cell_type": "code",
   "execution_count": 3,
   "metadata": {
    "collapsed": false
   },
   "outputs": [
    {
     "data": {
      "text/html": [
       "<div>\n",
       "<table border=\"1\" class=\"dataframe\">\n",
       "  <thead>\n",
       "    <tr style=\"text-align: right;\">\n",
       "      <th></th>\n",
       "      <th>product_id</th>\n",
       "      <th>product_name</th>\n",
       "      <th>aisle_id</th>\n",
       "      <th>department_id</th>\n",
       "    </tr>\n",
       "  </thead>\n",
       "  <tbody>\n",
       "    <tr>\n",
       "      <th>0</th>\n",
       "      <td>1</td>\n",
       "      <td>Chocolate Sandwich Cookies</td>\n",
       "      <td>61</td>\n",
       "      <td>19</td>\n",
       "    </tr>\n",
       "    <tr>\n",
       "      <th>1</th>\n",
       "      <td>2</td>\n",
       "      <td>All-Seasons Salt</td>\n",
       "      <td>104</td>\n",
       "      <td>13</td>\n",
       "    </tr>\n",
       "    <tr>\n",
       "      <th>2</th>\n",
       "      <td>3</td>\n",
       "      <td>Robust Golden Unsweetened Oolong Tea</td>\n",
       "      <td>94</td>\n",
       "      <td>7</td>\n",
       "    </tr>\n",
       "  </tbody>\n",
       "</table>\n",
       "</div>"
      ],
      "text/plain": [
       "   product_id                          product_name  aisle_id  department_id\n",
       "0           1            Chocolate Sandwich Cookies        61             19\n",
       "1           2                      All-Seasons Salt       104             13\n",
       "2           3  Robust Golden Unsweetened Oolong Tea        94              7"
      ]
     },
     "execution_count": 3,
     "metadata": {},
     "output_type": "execute_result"
    }
   ],
   "source": [
    "dataset.head(3)"
   ]
  },
  {
   "cell_type": "code",
   "execution_count": 4,
   "metadata": {
    "collapsed": true
   },
   "outputs": [],
   "source": [
    "#Cleaning Text using Regex\n",
    "import re\n",
    "def preprocess(text):\n",
    "    #Convert the text to lower case\n",
    "    text = text.lower()\n",
    "    #Remove all the digits & Special Characters\n",
    "    text = re.sub(\"(\\d|\\W)+\",\" \",text)\n",
    "    return text"
   ]
  },
  {
   "cell_type": "code",
   "execution_count": 5,
   "metadata": {
    "collapsed": false
   },
   "outputs": [
    {
     "data": {
      "text/html": [
       "<div>\n",
       "<table border=\"1\" class=\"dataframe\">\n",
       "  <thead>\n",
       "    <tr style=\"text-align: right;\">\n",
       "      <th></th>\n",
       "      <th>product_id</th>\n",
       "      <th>product_name</th>\n",
       "      <th>aisle_id</th>\n",
       "      <th>department_id</th>\n",
       "    </tr>\n",
       "  </thead>\n",
       "  <tbody>\n",
       "    <tr>\n",
       "      <th>0</th>\n",
       "      <td>1</td>\n",
       "      <td>chocolate sandwich cookies</td>\n",
       "      <td>61</td>\n",
       "      <td>19</td>\n",
       "    </tr>\n",
       "    <tr>\n",
       "      <th>1</th>\n",
       "      <td>2</td>\n",
       "      <td>all seasons salt</td>\n",
       "      <td>104</td>\n",
       "      <td>13</td>\n",
       "    </tr>\n",
       "    <tr>\n",
       "      <th>2</th>\n",
       "      <td>3</td>\n",
       "      <td>robust golden unsweetened oolong tea</td>\n",
       "      <td>94</td>\n",
       "      <td>7</td>\n",
       "    </tr>\n",
       "    <tr>\n",
       "      <th>3</th>\n",
       "      <td>4</td>\n",
       "      <td>smart ones classic favorites mini rigatoni wit...</td>\n",
       "      <td>38</td>\n",
       "      <td>1</td>\n",
       "    </tr>\n",
       "    <tr>\n",
       "      <th>4</th>\n",
       "      <td>5</td>\n",
       "      <td>green chile anytime sauce</td>\n",
       "      <td>5</td>\n",
       "      <td>13</td>\n",
       "    </tr>\n",
       "  </tbody>\n",
       "</table>\n",
       "</div>"
      ],
      "text/plain": [
       "   product_id                                       product_name  aisle_id  \\\n",
       "0           1                         chocolate sandwich cookies        61   \n",
       "1           2                                   all seasons salt       104   \n",
       "2           3               robust golden unsweetened oolong tea        94   \n",
       "3           4  smart ones classic favorites mini rigatoni wit...        38   \n",
       "4           5                          green chile anytime sauce         5   \n",
       "\n",
       "   department_id  \n",
       "0             19  \n",
       "1             13  \n",
       "2              7  \n",
       "3              1  \n",
       "4             13  "
      ]
     },
     "execution_count": 5,
     "metadata": {},
     "output_type": "execute_result"
    }
   ],
   "source": [
    "#Applying Regex to remove digits & special characters\n",
    "dataset['product_name'] = dataset['product_name'].apply(lambda x:preprocess(x))\n",
    "dataset.head()"
   ]
  },
  {
   "cell_type": "code",
   "execution_count": 6,
   "metadata": {
    "collapsed": false
   },
   "outputs": [
    {
     "data": {
      "text/plain": [
       "(1000, 4)"
      ]
     },
     "execution_count": 6,
     "metadata": {},
     "output_type": "execute_result"
    }
   ],
   "source": [
    "dataset.shape"
   ]
  },
  {
   "cell_type": "code",
   "execution_count": 7,
   "metadata": {
    "collapsed": true
   },
   "outputs": [],
   "source": [
    "#Converting data to list, before feeding it to tfidfvectorizer\n",
    "data = dataset['product_name'].tolist()"
   ]
  },
  {
   "cell_type": "code",
   "execution_count": 8,
   "metadata": {
    "collapsed": true
   },
   "outputs": [],
   "source": [
    "#Importing feature extracter library\n",
    "from sklearn.feature_extraction import text\n",
    "#unigram & bigram selected, stop_words removed\n",
    "tf = text.TfidfVectorizer(data,ngram_range=(1,2),stop_words = 'english')\n",
    "matrix_tfidf = tf.fit_transform(data)"
   ]
  },
  {
   "cell_type": "code",
   "execution_count": 9,
   "metadata": {
    "collapsed": false
   },
   "outputs": [
    {
     "data": {
      "text/html": [
       "<div>\n",
       "<table border=\"1\" class=\"dataframe\">\n",
       "  <thead>\n",
       "    <tr style=\"text-align: right;\">\n",
       "      <th></th>\n",
       "      <th>absorbency</th>\n",
       "      <th>absorbency regular</th>\n",
       "      <th>acai</th>\n",
       "      <th>acai blueberry</th>\n",
       "      <th>acai dragonfruit</th>\n",
       "      <th>acai kefir</th>\n",
       "      <th>acai organic</th>\n",
       "      <th>acaí</th>\n",
       "      <th>acaí cultured</th>\n",
       "      <th>acne</th>\n",
       "      <th>...</th>\n",
       "      <th>zesty</th>\n",
       "      <th>zesty spaghetti</th>\n",
       "      <th>zfruit</th>\n",
       "      <th>zfruit veggie</th>\n",
       "      <th>zipper</th>\n",
       "      <th>zipper bags</th>\n",
       "      <th>zita</th>\n",
       "      <th>zita cut</th>\n",
       "      <th>ziti</th>\n",
       "      <th>ziti marinara</th>\n",
       "    </tr>\n",
       "  </thead>\n",
       "  <tbody>\n",
       "    <tr>\n",
       "      <th>0</th>\n",
       "      <td>0.0</td>\n",
       "      <td>0.0</td>\n",
       "      <td>0.0</td>\n",
       "      <td>0.0</td>\n",
       "      <td>0.0</td>\n",
       "      <td>0.0</td>\n",
       "      <td>0.0</td>\n",
       "      <td>0.0</td>\n",
       "      <td>0.0</td>\n",
       "      <td>0.0</td>\n",
       "      <td>...</td>\n",
       "      <td>0.0</td>\n",
       "      <td>0.0</td>\n",
       "      <td>0.0</td>\n",
       "      <td>0.0</td>\n",
       "      <td>0.0</td>\n",
       "      <td>0.0</td>\n",
       "      <td>0.0</td>\n",
       "      <td>0.0</td>\n",
       "      <td>0.0</td>\n",
       "      <td>0.0</td>\n",
       "    </tr>\n",
       "    <tr>\n",
       "      <th>1</th>\n",
       "      <td>0.0</td>\n",
       "      <td>0.0</td>\n",
       "      <td>0.0</td>\n",
       "      <td>0.0</td>\n",
       "      <td>0.0</td>\n",
       "      <td>0.0</td>\n",
       "      <td>0.0</td>\n",
       "      <td>0.0</td>\n",
       "      <td>0.0</td>\n",
       "      <td>0.0</td>\n",
       "      <td>...</td>\n",
       "      <td>0.0</td>\n",
       "      <td>0.0</td>\n",
       "      <td>0.0</td>\n",
       "      <td>0.0</td>\n",
       "      <td>0.0</td>\n",
       "      <td>0.0</td>\n",
       "      <td>0.0</td>\n",
       "      <td>0.0</td>\n",
       "      <td>0.0</td>\n",
       "      <td>0.0</td>\n",
       "    </tr>\n",
       "    <tr>\n",
       "      <th>2</th>\n",
       "      <td>0.0</td>\n",
       "      <td>0.0</td>\n",
       "      <td>0.0</td>\n",
       "      <td>0.0</td>\n",
       "      <td>0.0</td>\n",
       "      <td>0.0</td>\n",
       "      <td>0.0</td>\n",
       "      <td>0.0</td>\n",
       "      <td>0.0</td>\n",
       "      <td>0.0</td>\n",
       "      <td>...</td>\n",
       "      <td>0.0</td>\n",
       "      <td>0.0</td>\n",
       "      <td>0.0</td>\n",
       "      <td>0.0</td>\n",
       "      <td>0.0</td>\n",
       "      <td>0.0</td>\n",
       "      <td>0.0</td>\n",
       "      <td>0.0</td>\n",
       "      <td>0.0</td>\n",
       "      <td>0.0</td>\n",
       "    </tr>\n",
       "  </tbody>\n",
       "</table>\n",
       "<p>3 rows × 4641 columns</p>\n",
       "</div>"
      ],
      "text/plain": [
       "   absorbency  absorbency regular  acai  acai blueberry  acai dragonfruit  \\\n",
       "0         0.0                 0.0   0.0             0.0               0.0   \n",
       "1         0.0                 0.0   0.0             0.0               0.0   \n",
       "2         0.0                 0.0   0.0             0.0               0.0   \n",
       "\n",
       "   acai kefir  acai organic  acaí  acaí cultured  acne      ...        zesty  \\\n",
       "0         0.0           0.0   0.0            0.0   0.0      ...          0.0   \n",
       "1         0.0           0.0   0.0            0.0   0.0      ...          0.0   \n",
       "2         0.0           0.0   0.0            0.0   0.0      ...          0.0   \n",
       "\n",
       "   zesty spaghetti  zfruit  zfruit veggie  zipper  zipper bags  zita  \\\n",
       "0              0.0     0.0            0.0     0.0          0.0   0.0   \n",
       "1              0.0     0.0            0.0     0.0          0.0   0.0   \n",
       "2              0.0     0.0            0.0     0.0          0.0   0.0   \n",
       "\n",
       "   zita cut  ziti  ziti marinara  \n",
       "0       0.0   0.0            0.0  \n",
       "1       0.0   0.0            0.0  \n",
       "2       0.0   0.0            0.0  \n",
       "\n",
       "[3 rows x 4641 columns]"
      ]
     },
     "execution_count": 9,
     "metadata": {},
     "output_type": "execute_result"
    }
   ],
   "source": [
    "# Sneaking on prepared dataset\n",
    "pd.DataFrame(matrix_tfidf.toarray(),columns=tf.get_feature_names()).head(3)"
   ]
  },
  {
   "cell_type": "code",
   "execution_count": 15,
   "metadata": {
    "collapsed": false
   },
   "outputs": [],
   "source": [
    "# Dimensionality Reduction Using SVD\n",
    "import sklearn.decomposition as decom\n",
    "svd = decom.TruncatedSVD(n_components=1000)\n",
    "matrix_red_svd = svd.fit_transform(matrix_tfidf)"
   ]
  },
  {
   "cell_type": "code",
   "execution_count": 16,
   "metadata": {
    "collapsed": false
   },
   "outputs": [
    {
     "data": {
      "text/plain": [
       "[<matplotlib.lines.Line2D at 0x1b9e4d18828>]"
      ]
     },
     "execution_count": 16,
     "metadata": {},
     "output_type": "execute_result"
    },
    {
     "data": {
      "image/png": "[encoded data removed]",
      "text/plain": [
       "<matplotlib.figure.Figure at 0x1b9e4d18c88>"
      ]
     },
     "metadata": {},
     "output_type": "display_data"
    }
   ],
   "source": [
    "exp_var_cum=np.cumsum(svd.explained_variance_ratio_)\n",
    "plt.step(range(exp_var_cum.size), exp_var_cum)"
   ]
  },
  {
   "cell_type": "code",
   "execution_count": 17,
   "metadata": {
    "collapsed": false
   },
   "outputs": [
    {
     "data": {
      "text/plain": [
       "array([[ 2.14842480e-04,  2.14842480e-04,  2.17865679e-02, ...,\n",
       "         2.81119141e-04,  2.85671486e-03,  2.85671486e-03],\n",
       "       [ 3.69547245e-04,  3.69547245e-04, -9.51760046e-03, ...,\n",
       "         6.01963528e-06, -1.61071577e-03, -1.61071577e-03],\n",
       "       [-2.33361045e-05, -2.33361045e-05, -6.54242600e-03, ...,\n",
       "         3.14359689e-04,  2.04961832e-02,  2.04961832e-02],\n",
       "       ...,\n",
       "       [-1.40628570e-01, -2.22528260e-01,  3.62231681e-01, ...,\n",
       "        -5.31556150e-03,  2.67786860e-03,  1.34660489e-03],\n",
       "       [ 1.03857387e-02,  6.52641188e-02, -1.25205683e-01, ...,\n",
       "         4.18619930e-04,  9.64088655e-04,  2.41420442e-03],\n",
       "       [ 1.39554045e-01, -2.41864652e-02, -1.04911452e-02, ...,\n",
       "         6.36722547e-03,  3.16915318e-03, -1.78564970e-03]])"
      ]
     },
     "execution_count": 17,
     "metadata": {},
     "output_type": "execute_result"
    }
   ],
   "source": [
    "# Checking on SVD components\n",
    "svd.components_"
   ]
  },
  {
   "cell_type": "code",
   "execution_count": 18,
   "metadata": {
    "collapsed": false
   },
   "outputs": [
    {
     "data": {
      "text/plain": [
       "(1000, 1000)"
      ]
     },
     "execution_count": 18,
     "metadata": {},
     "output_type": "execute_result"
    }
   ],
   "source": [
    "# Checking reduced svd matrix\n",
    "matrix_red_svd.shape"
   ]
  },
  {
   "cell_type": "code",
   "execution_count": 19,
   "metadata": {
    "collapsed": true
   },
   "outputs": [],
   "source": [
    "#Importing cosine metrics library\n",
    "from sklearn.metrics.pairwise import cosine_similarity\n",
    "sim_unibigram = cosine_similarity(matrix_red_svd)"
   ]
  },
  {
   "cell_type": "code",
   "execution_count": 20,
   "metadata": {
    "collapsed": false
   },
   "outputs": [
    {
     "data": {
      "text/plain": [
       "(1000, 1000)"
      ]
     },
     "execution_count": 20,
     "metadata": {},
     "output_type": "execute_result"
    }
   ],
   "source": [
    "sim_unibigram.shape"
   ]
  },
  {
   "cell_type": "code",
   "execution_count": 21,
   "metadata": {
    "collapsed": false
   },
   "outputs": [
    {
     "data": {
      "text/plain": [
       "<function ndarray.argsort>"
      ]
     },
     "execution_count": 21,
     "metadata": {},
     "output_type": "execute_result"
    }
   ],
   "source": [
    "sim_unibigram[0].argsort"
   ]
  },
  {
   "cell_type": "code",
   "execution_count": 22,
   "metadata": {
    "collapsed": false
   },
   "outputs": [
    {
     "data": {
      "text/plain": [
       "array([590, 575, 171, 558], dtype=int64)"
      ]
     },
     "execution_count": 22,
     "metadata": {},
     "output_type": "execute_result"
    }
   ],
   "source": [
    "sim_unibigram[0].argsort()[-5:-1]"
   ]
  },
  {
   "cell_type": "code",
   "execution_count": 23,
   "metadata": {
    "collapsed": false
   },
   "outputs": [
    {
     "data": {
      "text/plain": [
       "590    oreo cookies and cream chocolate frozen dairy ...\n",
       "575                                vanilla sugar cookies\n",
       "171       gluten free all natural chocolate chip cookies\n",
       "558    cookie chips crunchy dark chocolate chocolate ...\n",
       "Name: product_name, dtype: object"
      ]
     },
     "execution_count": 23,
     "metadata": {},
     "output_type": "execute_result"
    }
   ],
   "source": [
    "dataset['product_name'].loc[sim_unibigram[0].argsort()[-5:-1]]"
   ]
  },
  {
   "cell_type": "code",
   "execution_count": 24,
   "metadata": {
    "collapsed": false
   },
   "outputs": [
    {
     "data": {
      "text/plain": [
       "[1, 19, 19, 19]"
      ]
     },
     "execution_count": 24,
     "metadata": {},
     "output_type": "execute_result"
    }
   ],
   "source": [
    "list(dataset['department_id'].loc[sim_unibigram[0].argsort()[-5:-1]])"
   ]
  },
  {
   "cell_type": "code",
   "execution_count": 25,
   "metadata": {
    "collapsed": true
   },
   "outputs": [],
   "source": [
    "# Defining different functions to create a list of recommended products based on cosine similarity matrix\n",
    "def get_similar_products(x):\n",
    "    return \",\".join(dataset['product_name'].loc[x.argsort()[-5:-1]])\n",
    "def get_similar_product_aisle(x):\n",
    "    return list(dataset['aisle_id'].loc[x.argsort()[-5:-1]])\n",
    "def get_similar_product_dept(x):\n",
    "    return list(dataset['department_id'].loc[x.argsort()[-5:-1]])\n",
    "def get_similar_product_id(x):\n",
    "    return list(dataset['product_id'].loc[x.argsort()[-5:-1]])"
   ]
  },
  {
   "cell_type": "code",
   "execution_count": 26,
   "metadata": {
    "collapsed": false
   },
   "outputs": [],
   "source": [
    "#Applying function to create a final table\n",
    "dataset['suggested_products'] = [get_similar_products(x) for x in sim_unibigram]\n",
    "dataset['suggested_pro_aisle_id'] = [get_similar_product_aisle(x) for x in sim_unibigram]\n",
    "dataset['suggested_prod_dept'] = [get_similar_product_dept(x) for x in sim_unibigram]\n",
    "dataset['suggested_prod_id'] = [get_similar_product_id(x) for x in sim_unibigram]"
   ]
  },
  {
   "cell_type": "code",
   "execution_count": 27,
   "metadata": {
    "collapsed": false
   },
   "outputs": [
    {
     "data": {
      "text/html": [
       "<div>\n",
       "<table border=\"1\" class=\"dataframe\">\n",
       "  <thead>\n",
       "    <tr style=\"text-align: right;\">\n",
       "      <th></th>\n",
       "      <th>product_id</th>\n",
       "      <th>product_name</th>\n",
       "      <th>aisle_id</th>\n",
       "      <th>department_id</th>\n",
       "      <th>suggested_products</th>\n",
       "      <th>suggested_pro_aisle_id</th>\n",
       "      <th>suggested_prod_dept</th>\n",
       "      <th>suggested_prod_id</th>\n",
       "    </tr>\n",
       "  </thead>\n",
       "  <tbody>\n",
       "    <tr>\n",
       "      <th>0</th>\n",
       "      <td>1</td>\n",
       "      <td>chocolate sandwich cookies</td>\n",
       "      <td>61</td>\n",
       "      <td>19</td>\n",
       "      <td>oreo cookies and cream chocolate frozen dairy ...</td>\n",
       "      <td>[37, 61, 61, 61]</td>\n",
       "      <td>[1, 19, 19, 19]</td>\n",
       "      <td>[591, 576, 172, 559]</td>\n",
       "    </tr>\n",
       "    <tr>\n",
       "      <th>1</th>\n",
       "      <td>2</td>\n",
       "      <td>all seasons salt</td>\n",
       "      <td>104</td>\n",
       "      <td>13</td>\n",
       "      <td>thin stackers brown rice salt free,sardines in...</td>\n",
       "      <td>[107, 33, 104, 104]</td>\n",
       "      <td>[19, 6, 13, 13]</td>\n",
       "      <td>[273, 425, 463, 240]</td>\n",
       "    </tr>\n",
       "    <tr>\n",
       "      <th>2</th>\n",
       "      <td>3</td>\n",
       "      <td>robust golden unsweetened oolong tea</td>\n",
       "      <td>94</td>\n",
       "      <td>7</td>\n",
       "      <td>almond breeze unsweetened almond coconut milk ...</td>\n",
       "      <td>[91, 91, 94, 61]</td>\n",
       "      <td>[16, 16, 7, 19]</td>\n",
       "      <td>[738, 862, 560, 569]</td>\n",
       "    </tr>\n",
       "    <tr>\n",
       "      <th>3</th>\n",
       "      <td>4</td>\n",
       "      <td>smart ones classic favorites mini rigatoni wit...</td>\n",
       "      <td>38</td>\n",
       "      <td>1</td>\n",
       "      <td>mini double chocolate ice cream bars,classic c...</td>\n",
       "      <td>[37, 77, 37, 131]</td>\n",
       "      <td>[1, 7, 1, 9]</td>\n",
       "      <td>[997, 649, 431, 774]</td>\n",
       "    </tr>\n",
       "    <tr>\n",
       "      <th>4</th>\n",
       "      <td>5</td>\n",
       "      <td>green chile anytime sauce</td>\n",
       "      <td>5</td>\n",
       "      <td>13</td>\n",
       "      <td>petite green peas,apple green cups,caramel sau...</td>\n",
       "      <td>[116, 111, 103, 107]</td>\n",
       "      <td>[1, 17, 19, 19]</td>\n",
       "      <td>[969, 846, 275, 851]</td>\n",
       "    </tr>\n",
       "  </tbody>\n",
       "</table>\n",
       "</div>"
      ],
      "text/plain": [
       "   product_id                                       product_name  aisle_id  \\\n",
       "0           1                         chocolate sandwich cookies        61   \n",
       "1           2                                   all seasons salt       104   \n",
       "2           3               robust golden unsweetened oolong tea        94   \n",
       "3           4  smart ones classic favorites mini rigatoni wit...        38   \n",
       "4           5                          green chile anytime sauce         5   \n",
       "\n",
       "   department_id                                 suggested_products  \\\n",
       "0             19  oreo cookies and cream chocolate frozen dairy ...   \n",
       "1             13  thin stackers brown rice salt free,sardines in...   \n",
       "2              7  almond breeze unsweetened almond coconut milk ...   \n",
       "3              1  mini double chocolate ice cream bars,classic c...   \n",
       "4             13  petite green peas,apple green cups,caramel sau...   \n",
       "\n",
       "  suggested_pro_aisle_id suggested_prod_dept     suggested_prod_id  \n",
       "0       [37, 61, 61, 61]     [1, 19, 19, 19]  [591, 576, 172, 559]  \n",
       "1    [107, 33, 104, 104]     [19, 6, 13, 13]  [273, 425, 463, 240]  \n",
       "2       [91, 91, 94, 61]     [16, 16, 7, 19]  [738, 862, 560, 569]  \n",
       "3      [37, 77, 37, 131]        [1, 7, 1, 9]  [997, 649, 431, 774]  \n",
       "4   [116, 111, 103, 107]     [1, 17, 19, 19]  [969, 846, 275, 851]  "
      ]
     },
     "execution_count": 27,
     "metadata": {},
     "output_type": "execute_result"
    }
   ],
   "source": [
    "dataset.head()"
   ]
  },
  {
   "cell_type": "code",
   "execution_count": 28,
   "metadata": {
    "collapsed": true
   },
   "outputs": [],
   "source": [
    "dataset.to_csv('Final_data.csv')"
   ]
  },
  {
   "cell_type": "code",
   "execution_count": null,
   "metadata": {
    "collapsed": true
   },
   "outputs": [],
   "source": []
  }
 ],
 "metadata": {
  "anaconda-cloud": {},
  "kernelspec": {
   "display_name": "Python [conda env:tensorflow]",
   "language": "python",
   "name": "conda-env-tensorflow-py"
  },
  "language_info": {
   "codemirror_mode": {
    "name": "ipython",
    "version": 3
   },
   "file_extension": ".py",
   "mimetype": "text/x-python",
   "name": "python",
   "nbconvert_exporter": "python",
   "pygments_lexer": "ipython3",
   "version": "3.5.2"
  }
 },
 "nbformat": 4,
 "nbformat_minor": 1
}
